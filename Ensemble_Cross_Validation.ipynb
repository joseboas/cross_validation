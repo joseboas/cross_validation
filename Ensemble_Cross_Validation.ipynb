{
 "cells": [
  {
   "cell_type": "markdown",
   "metadata": {
    "id": "s1MB14HYJP3c"
   },
   "source": [
    "# Validação Cruzada\n",
    "### adaptado do curso: \n",
    "<font color='BLUE'>Cientista de Dados na Prática </font>\n",
    "                           \n",
    "<font color='PURPLE'>Módulo 5 - Máquinas Preditivas</font>\n",
    "\n",
    "# BaggingClassifier"
   ]
  },
  {
   "cell_type": "code",
   "execution_count": 1,
   "metadata": {
    "colab": {
     "base_uri": "https://localhost:8080/"
    },
    "id": "sDRhTymJS7VC",
    "outputId": "43d3dce9-d9f0-440d-fb69-9302bbdffb9a"
   },
   "outputs": [
    {
     "name": "stdout",
     "output_type": "stream",
     "text": [
      "accuracy:[0.71428571 0.79220779 0.66233766 0.75324675 0.80519481 0.79220779\n",
      " 0.67532468 0.77922078 0.78947368 0.77631579]\n",
      "Mean accuracy:75.39815447710184\n",
      "precision:[0.75862069 0.71428571 0.57142857 0.66666667 0.71428571 0.73684211\n",
      " 0.6        0.78571429 0.57142857 0.68181818]\n",
      "Mean precision:68.01090500546036\n",
      "recall:[0.61290323 0.46153846 0.62962963 0.56521739 0.62962963 0.64\n",
      " 0.44827586 0.72727273 0.5625     0.58064516]\n",
      "Mean recall:58.57612088540536\n",
      "f1_score = 62.94191628390459\n"
     ]
    }
   ],
   "source": [
    "# Import dos módulos\n",
    "from pandas import read_csv\n",
    "from sklearn.model_selection import KFold\n",
    "from sklearn.model_selection import cross_val_score\n",
    "from sklearn.ensemble import BaggingClassifier\n",
    "\n",
    "# Carregando os dados\n",
    "arquivo = 'pima-data.csv'\n",
    "colunas = ['preg', 'plas', 'pres', 'skin', 'test', 'mass', 'pedi', 'age', 'class']\n",
    "dados = read_csv(arquivo, names = colunas)\n",
    "array = dados.values\n",
    "\n",
    "# Separando o array em componentes de input e output\n",
    "X = array[:,0:8]\n",
    "Y = array[:,8]\n",
    "\n",
    "# Definindo os valores para o número de folds\n",
    "num_folds = 10\n",
    "seed = 7\n",
    "\n",
    "# Definindo o número de trees\n",
    "num_trees = 100\n",
    "max_features = 6\n",
    "\n",
    "# Separando os dados em folds\n",
    "kfold = KFold(num_folds, shuffle= True, random_state = seed)\n",
    "\n",
    "# Criando o modelo\n",
    "modelo = BaggingClassifier(n_estimators = num_trees, max_features = max_features)\n",
    "# Cross Validation\n",
    "for score in [\"accuracy\", \"precision\", \"recall\"]:\n",
    "        resultado = cross_val_score(modelo, X, Y, cv = kfold,scoring=score)\n",
    "        if score == 'precision':\n",
    "            precision = resultado.mean()\n",
    "        elif score == 'recall':\n",
    "            recall = resultado.mean()        \n",
    "        print(f'{score}:{resultado}')\n",
    "        print(f'Mean {score}:{resultado.mean() * 100}')\n",
    "        \n",
    "f1_score = (2 * precision * recall) / (precision + recall)\n",
    "print(f'f1_score = {f1_score * 100}')"
   ]
  },
  {
   "cell_type": "markdown",
   "metadata": {
    "id": "pbWu2rInqLTo"
   },
   "source": [
    "# ExtraTree"
   ]
  },
  {
   "cell_type": "code",
   "execution_count": 2,
   "metadata": {
    "colab": {
     "base_uri": "https://localhost:8080/"
    },
    "id": "HmC0Wi5zqP56",
    "outputId": "317d189b-fb21-4ef8-eaf6-01af972c26f1"
   },
   "outputs": [
    {
     "name": "stdout",
     "output_type": "stream",
     "text": [
      "accuracy:[0.77922078 0.76623377 0.7012987  0.77922078 0.76623377 0.80519481\n",
      " 0.66233766 0.77922078 0.77631579 0.73684211]\n",
      "Mean accuracy:75.52118933697881\n",
      "precision:[0.76       0.75       0.5625     0.68181818 0.7        0.73684211\n",
      " 0.58823529 0.82758621 0.55555556 0.70833333]\n",
      "Mean precision:68.70870676984427\n",
      "recall:[0.61290323 0.57692308 0.59259259 0.69565217 0.59259259 0.6\n",
      " 0.44827586 0.72727273 0.625      0.58064516]\n",
      "Mean recall:60.518574124597734\n",
      "f1_score = 64.35410441008375\n"
     ]
    }
   ],
   "source": [
    "# Import dos módulos\n",
    "from pandas import read_csv\n",
    "from sklearn.model_selection import KFold\n",
    "from sklearn.model_selection import cross_val_score\n",
    "from sklearn.ensemble import ExtraTreesClassifier\n",
    "\n",
    "# Carregando os dados\n",
    "arquivo = 'pima-data.csv'\n",
    "colunas = ['preg', 'plas', 'pres', 'skin', 'test', 'mass', 'pedi', 'age', 'class']\n",
    "dados = read_csv(arquivo, names = colunas)\n",
    "array = dados.values\n",
    "\n",
    "# Separando o array em componentes de input e output\n",
    "X = array[:,0:8]\n",
    "Y = array[:,8]\n",
    "\n",
    "# Definindo os valores para o número de folds\n",
    "num_folds = 10\n",
    "seed = 7\n",
    "\n",
    "# Definindo o número de trees\n",
    "num_trees = 100\n",
    "max_features = 7\n",
    "\n",
    "# Separando os dados em folds\n",
    "kfold = KFold(num_folds, shuffle= True, random_state = seed)\n",
    "\n",
    "# Criando o modelo\n",
    "modelo = ExtraTreesClassifier(n_estimators = num_trees, max_features = max_features)\n",
    "\n",
    "# Cross Validation\n",
    "for score in [\"accuracy\", \"precision\", \"recall\"]:\n",
    "        resultado = cross_val_score(modelo, X, Y, cv = kfold,scoring=score)\n",
    "        if score == 'precision':\n",
    "            precision = resultado.mean()\n",
    "        elif score == 'recall':\n",
    "            recall = resultado.mean()        \n",
    "        print(f'{score}:{resultado}')\n",
    "        print(f'Mean {score}:{resultado.mean() * 100}')\n",
    "        \n",
    "f1_score = (2 * precision * recall) / (precision + recall)\n",
    "print(f'f1_score = {f1_score * 100}')"
   ]
  },
  {
   "cell_type": "markdown",
   "metadata": {
    "id": "kKk6XwHqS7VB"
   },
   "source": [
    "# Random Forest"
   ]
  },
  {
   "cell_type": "code",
   "execution_count": 36,
   "metadata": {
    "colab": {
     "base_uri": "https://localhost:8080/"
    },
    "id": "hcscLgfFoDzw",
    "outputId": "8b409ae3-4f35-4ce9-d973-d70b43a179b5"
   },
   "outputs": [
    {
     "name": "stdout",
     "output_type": "stream",
     "text": [
      "accuracy:[0.83116883 0.76623377 0.72727273 0.79220779 0.83116883 0.79220779\n",
      " 0.7012987  0.79220779 0.82894737 0.73684211]\n",
      "Mean accuracy:77.99555707450445\n",
      "precision:[0.88461538 0.76190476 0.5483871  0.65217391 0.77272727 0.76190476\n",
      " 0.61111111 0.76666667 0.55       0.73913043]\n",
      "Mean precision:70.4862140353024\n",
      "recall:[0.74193548 0.57692308 0.62962963 0.56521739 0.62962963 0.52\n",
      " 0.31034483 0.6969697  0.625      0.5483871 ]\n",
      "Mean recall:58.44036832687749\n",
      "f1_score = 63.90055851505386\n"
     ]
    }
   ],
   "source": [
    "# Import dos módulos\n",
    "from pandas import read_csv\n",
    "from sklearn.model_selection import KFold\n",
    "from sklearn.model_selection import cross_val_score\n",
    "from sklearn.ensemble import RandomForestClassifier\n",
    "\n",
    "# Carregando os dados\n",
    "arquivo = 'pima-data.csv'\n",
    "colunas = ['preg', 'plas', 'pres', 'skin', 'test', 'mass', 'pedi', 'age', 'class']\n",
    "dados = read_csv(arquivo, names = colunas)\n",
    "array = dados.values\n",
    "\n",
    "# Separando o array em componentes de input e output\n",
    "X = array[:,0:8]\n",
    "Y = array[:,8]\n",
    "\n",
    "# Definindo os valores para o número de folds\n",
    "num_folds = 10\n",
    "seed = 7\n",
    "\n",
    "# Definindo o número de trees\n",
    "num_trees = 100\n",
    "max_features = 2\n",
    "\n",
    "# Separando os dados em folds\n",
    "kfold = KFold(num_folds, shuffle= True, random_state = seed)\n",
    "\n",
    "# Criando o modelo\n",
    "modelo = RandomForestClassifier(n_estimators = num_trees, max_features = max_features)\n",
    "\n",
    "# Cross Validation\n",
    "for score in [\"accuracy\", \"precision\", \"recall\"]:\n",
    "        resultado = cross_val_score(modelo, X, Y, cv = kfold,scoring=score)\n",
    "        if score == 'precision':\n",
    "            precision = resultado.mean()\n",
    "        elif score == 'recall':\n",
    "            recall = resultado.mean()        \n",
    "        print(f'{score}:{resultado}')\n",
    "        print(f'Mean {score}:{resultado.mean() * 100}')\n",
    "        \n",
    "f1_score = (2 * precision * recall) / (precision + recall)\n",
    "print(f'f1_score = {f1_score * 100}')"
   ]
  }
 ],
 "metadata": {
  "anaconda-cloud": {},
  "colab": {
   "collapsed_sections": [
    "5-2OcPjFTQvJ",
    "fM2H4ZghTFlx",
    "p1xLI5i-pGUg",
    "f1d7cwQrpGdl",
    "GsN9BB720qK_",
    "AFgo0wBU02Y8",
    "87mALRrH1E3M",
    "RErBS1jl1NbV",
    "78ZM9EYECfPO",
    "e692nxf39X1G",
    "xjL5c6qJS7VS",
    "pJMeEpk5S7VY",
    "QSwPy0PkpfzU",
    "cKnQeiSlpgEd",
    "8s-ztsziTKuJ",
    "Yfm5YFwLS7TG",
    "p-vDYNphS7Uz",
    "XTRc7NjBKG65"
   ],
   "name": "M5A54 - Ensemble Learnings Algorithms.ipynb",
   "provenance": []
  },
  "kernelspec": {
   "display_name": "Python 3",
   "language": "python",
   "name": "python3"
  },
  "language_info": {
   "codemirror_mode": {
    "name": "ipython",
    "version": 3
   },
   "file_extension": ".py",
   "mimetype": "text/x-python",
   "name": "python",
   "nbconvert_exporter": "python",
   "pygments_lexer": "ipython3",
   "version": "3.8.8"
  }
 },
 "nbformat": 4,
 "nbformat_minor": 1
}
